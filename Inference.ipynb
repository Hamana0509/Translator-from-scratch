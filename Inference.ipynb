{
 "cells": [
  {
   "cell_type": "code",
   "execution_count": 1,
   "metadata": {},
   "outputs": [
    {
     "name": "stdout",
     "output_type": "stream",
     "text": [
      "Using device: cuda\n",
      "    SOURCE: -f\n",
      " PREDICTED: - ...  "
     ]
    }
   ],
   "source": [
    "from pathlib import Path\n",
    "import torch\n",
    "import torch.nn as nn\n",
    "from config import get_config, latest_weights_file_path\n",
    "from train import get_model, get_ds, run_validation\n",
    "from translate import translate"
   ]
  },
  {
   "cell_type": "code",
   "execution_count": 2,
   "metadata": {},
   "outputs": [
    {
     "name": "stdout",
     "output_type": "stream",
     "text": [
      "Using device: cuda\n",
      "Max length of source sentence: 225\n",
      "Max length of target sentence: 226\n"
     ]
    },
    {
     "data": {
      "text/plain": [
       "<All keys matched successfully>"
      ]
     },
     "execution_count": 2,
     "metadata": {},
     "output_type": "execute_result"
    }
   ],
   "source": [
    "# Define the device\n",
    "device = torch.device(\"cuda\" if torch.cuda.is_available() else \"cpu\")\n",
    "print(\"Using device:\", device)\n",
    "config = get_config()\n",
    "train_dataloader, val_dataloader, tokenizer_src, tokenizer_tgt = get_ds(config)\n",
    "model = get_model(config, tokenizer_src.get_vocab_size(), tokenizer_tgt.get_vocab_size()).to(device)\n",
    "\n",
    "# Load the pretrained weights\n",
    "model_filename = latest_weights_file_path(config)\n",
    "state = torch.load(model_filename)\n",
    "model.load_state_dict(state['model_state_dict'])"
   ]
  },
  {
   "cell_type": "code",
   "execution_count": 3,
   "metadata": {},
   "outputs": [
    {
     "name": "stderr",
     "output_type": "stream",
     "text": [
      "stty: 'standard input': Inappropriate ioctl for device\n"
     ]
    },
    {
     "name": "stdout",
     "output_type": "stream",
     "text": [
      "--------------------------------------------------------------------------------\n",
      "    SOURCE: - Young.\n",
      "    TARGET: -Còn trẻ.\n",
      " PREDICTED: - Còn trẻ .\n",
      "--------------------------------------------------------------------------------\n",
      "    SOURCE: I wonder where he could have gone?\n",
      "    TARGET: Không biết huynh ấy có thể đi đâu nữa?\n",
      " PREDICTED: Tôi tự hỏi là hắn có thể đi đâu ?\n",
      "--------------------------------------------------------------------------------\n",
      "    SOURCE: He's having trouble making a decision.\n",
      "    TARGET: Ông ấy gặp khó khăn trong việc đưa ra quyết định.\n",
      " PREDICTED: Ông ấy gặp khó khăn để có quyết định .\n",
      "--------------------------------------------------------------------------------\n",
      "    SOURCE: Am I right, Carl?\n",
      "    TARGET: Tôi nói đúng chứ, Carl?\n",
      " PREDICTED: Tôi nói đúng không , Carl ?\n",
      "--------------------------------------------------------------------------------\n",
      "    SOURCE: Ran-neechan, right?\n",
      "    TARGET: Chị là Ran-neechan thật?\n",
      " PREDICTED: - Là - đúng không ?\n",
      "--------------------------------------------------------------------------------\n",
      "    SOURCE: It worked. All the world is mine!\n",
      "    TARGET: - Thành công rồi, giờ các ngươi là của ta !\n",
      " PREDICTED: Thế giới là của tôi !\n",
      "--------------------------------------------------------------------------------\n",
      "    SOURCE: Port authority found them last week, suffocated.\n",
      "    TARGET: Hải quan phát hiện họ chết ngạt hồi tuần trước.\n",
      " PREDICTED: Hải quan phát hiện họ chết ngạt hồi tuần trước .\n",
      "--------------------------------------------------------------------------------\n",
      "    SOURCE: Stuff I didn't put there.\n",
      "    TARGET: Những thứ tôi không muốn mua.\n",
      " PREDICTED: Những thứ tôi không đặt đến đó .\n",
      "--------------------------------------------------------------------------------\n",
      "    SOURCE: I can't not report child endangerment.\n",
      "    TARGET: Tôi không thể không báo cáo hành vi gây nguy hiểm cho trẻ em.\n",
      " PREDICTED: Tôi không thể báo cáo cho đứa bé .\n",
      "--------------------------------------------------------------------------------\n",
      "    SOURCE: In Alexander Dumas's book, /The Three Musketeers... /two of the musketeers are /called Athos and Porthos.\n",
      "    TARGET: Trong cuốn sách \"Ba chàng lính ngự lâm\" của Alexandre Dumas, 2 chàng lính ngự lâm có tên là Athos và Porthos.\n",
      " PREDICTED: Trong cuốn sách \" Ba chàng lính ngự lâm \" của Alexandre , 2 chàng lính ngự lâm có tên là và .\n",
      "--------------------------------------------------------------------------------\n"
     ]
    }
   ],
   "source": [
    "run_validation(model, val_dataloader, tokenizer_src, tokenizer_tgt, config['seq_len'], device, lambda msg: print(msg), 0, None, num_examples=10)"
   ]
  },
  {
   "cell_type": "code",
   "execution_count": 4,
   "metadata": {},
   "outputs": [
    {
     "name": "stdout",
     "output_type": "stream",
     "text": [
      "Using device: cuda\n",
      "    SOURCE: Intel sneaks out nine 14th-Gen CPUs without E-cores — odd flagship Core i9-14901KE is the first overclockable chip for the embedded market.\n",
      " PREDICTED: Nó bước phát nổ 9       -  -  -  -                         for the  to the   Nó bước phát nổ 9 - - - - for the to the\n"
     ]
    }
   ],
   "source": [
    "t = translate(\"Intel sneaks out nine 14th-Gen CPUs without E-cores — odd flagship Core i9-14901KE is the first overclockable chip for the embedded market.\")\n",
    "print(t)"
   ]
  },
  {
   "cell_type": "code",
   "execution_count": 5,
   "metadata": {},
   "outputs": [
    {
     "name": "stdout",
     "output_type": "stream",
     "text": [
      "Using device: cuda\n",
      "    SOURCE: Nvidia could lose up to $12 billion in revenue if US bans new China-oriented GPU — analysts believe the H20 will get the banhammer soon\n",
      " PREDICTED:   có thể mất 12 tỷ đô                                         có thể mất 12 tỷ đô\n"
     ]
    }
   ],
   "source": [
    "t = translate(\"Nvidia could lose up to $12 billion in revenue if US bans new China-oriented GPU — analysts believe the H20 will get the banhammer soon\")\n",
    "print(t)"
   ]
  }
 ],
 "metadata": {
  "kernelspec": {
   "display_name": "Python 3 (ipykernel)",
   "language": "python",
   "name": "python3"
  },
  "language_info": {
   "codemirror_mode": {
    "name": "ipython",
    "version": 3
   },
   "file_extension": ".py",
   "mimetype": "text/x-python",
   "name": "python",
   "nbconvert_exporter": "python",
   "pygments_lexer": "ipython3",
   "version": "3.10.13"
  }
 },
 "nbformat": 4,
 "nbformat_minor": 4
}
